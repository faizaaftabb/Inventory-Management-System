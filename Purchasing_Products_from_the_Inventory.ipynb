{
 "cells": [
  {
   "cell_type": "markdown",
   "metadata": {},
   "source": [
    "## READING THE INVENTORY TO SEE AVAILABLE PRODUCTS"
   ]
  },
  {
   "cell_type": "code",
   "execution_count": 1,
   "metadata": {},
   "outputs": [],
   "source": [
    "import json\n",
    "\n",
    "fd = open(\"record.json\",'r')\n",
    "r = fd.read()\n",
    "fd.close()\n",
    "\n",
    "record = json.loads(r)"
   ]
  },
  {
   "cell_type": "code",
   "execution_count": 2,
   "metadata": {},
   "outputs": [
    {
     "data": {
      "text/plain": [
       "{'101': {'Color': 'Blue',\n",
       "  'Discount(%)': 10,\n",
       "  'Price': 15000,\n",
       "  'Product': 'Samsung Galaxy A21s',\n",
       "  'Quantity': 30,\n",
       "  'RAM_GB': 6},\n",
       " '102': {'Color': 'Black',\n",
       "  'Discount(%)': 5,\n",
       "  'Price': 65000,\n",
       "  'Product': 'Google Pixel 5a',\n",
       "  'Quantity': 10,\n",
       "  'RAM_GB': 6},\n",
       " '103': {'Color': 'Silver',\n",
       "  'Discount(%)': 10,\n",
       "  'Price': 15000,\n",
       "  'Product': 'Samsung Galaxy A21',\n",
       "  'Quantity': 50,\n",
       "  'RAM_GB': 6},\n",
       " '104': {'Color': 'Red',\n",
       "  'Discount(%)': 5,\n",
       "  'Price': 14000,\n",
       "  'Product': 'Xiaomi Redmi Note 10',\n",
       "  'Quantity': 13,\n",
       "  'RAM_GB': 4},\n",
       " '105': {'Color': 'Black',\n",
       "  'Discount(%)': 7,\n",
       "  'Price': 13000,\n",
       "  'Product': 'Realme Narzo 30',\n",
       "  'Quantity': 9,\n",
       "  'RAM_GB': 4},\n",
       " '106': {'Color': 'Turqoise',\n",
       "  'Discount(%)': 5,\n",
       "  'Price': 29990,\n",
       "  'Product': 'OPPO Reno 6',\n",
       "  'Quantity': 7,\n",
       "  'RAM_GB': 8},\n",
       " '107': {'Color': 'Black',\n",
       "  'Discount(%)': 5,\n",
       "  'Price': 40000,\n",
       "  'Product': 'OnePlus 9R',\n",
       "  'Quantity': 3,\n",
       "  'RAM_GB': 8},\n",
       " '108': {'Color': 'Silver',\n",
       "  'Discount(%)': 5,\n",
       "  'Price': 32000,\n",
       "  'Product': 'IQOO 7',\n",
       "  'Quantity': 24,\n",
       "  'RAM_GB': 8},\n",
       " '109': {'Color': 'White',\n",
       "  'Discount(%)': 15,\n",
       "  'Price': 37999,\n",
       "  'Product': 'Realme GT 5G',\n",
       "  'Quantity': 1,\n",
       "  'RAM_GB': 8},\n",
       " '110': {'Color': 'Green',\n",
       "  'Discount(%)': 10,\n",
       "  'Price': 64999,\n",
       "  'Product': 'OnePlus 9 Pro',\n",
       "  'Quantity': 16,\n",
       "  'RAM_GB': 8},\n",
       " '111': {'Color': 'Black',\n",
       "  'Discount(%)': 5,\n",
       "  'Price': 50000,\n",
       "  'Product': 'Asus ROG Phone 5',\n",
       "  'Quantity': 42,\n",
       "  'RAM_GB': 8},\n",
       " '112': {'Color': 'Red',\n",
       "  'Discount(%)': 5,\n",
       "  'Price': 12000,\n",
       "  'Product': 'POCO M3',\n",
       "  'Quantity': 19,\n",
       "  'RAM_GB': 6},\n",
       " '113': {'Color': 'White',\n",
       "  'Discount(%)': 5,\n",
       "  'Price': 32000,\n",
       "  'Product': 'Google Pixel 4A',\n",
       "  'Quantity': 4,\n",
       "  'RAM_GB': 6},\n",
       " '114': {'Color': 'Golden',\n",
       "  'Discount(%)': 12,\n",
       "  'Price': 115900,\n",
       "  'Product': 'Apple iPhone 12ProMax',\n",
       "  'Quantity': 14,\n",
       "  'RAM_GB': 6},\n",
       " '115': {'Color': 'Blue',\n",
       "  'Discount(%)': 10,\n",
       "  'Price': 106900,\n",
       "  'Product': 'Apple iPhone 12 Pro',\n",
       "  'Quantity': 21,\n",
       "  'RAM_GB': 6},\n",
       " '116': {'Color': 'Yellow',\n",
       "  'Discount(%)': 8,\n",
       "  'Price': 43000,\n",
       "  'Product': 'Apple iPhone XR',\n",
       "  'Quantity': 9,\n",
       "  'RAM_GB': 3},\n",
       " '117': {'Color': 'Green',\n",
       "  'Discount(%)': 6,\n",
       "  'Price': 33000,\n",
       "  'Product': 'Apple iPhone SE',\n",
       "  'Quantity': 16,\n",
       "  'RAM_GB': 3},\n",
       " '118': {'Color': 'White',\n",
       "  'Discount(%)': 5,\n",
       "  'Price': 39000,\n",
       "  'Product': 'Apple iPhone 8',\n",
       "  'Quantity': 11,\n",
       "  'RAM_GB': 2},\n",
       " '119': {'Color': 'Black',\n",
       "  'Discount(%)': 0,\n",
       "  'Price': 69000,\n",
       "  'Product': 'Apple iPhone 11',\n",
       "  'Quantity': 28,\n",
       "  'RAM_GB': 4},\n",
       " '120': {'Color': 'Blue',\n",
       "  'Discount(%)': 6,\n",
       "  'Price': 23000,\n",
       "  'Product': 'OnePlus Nord CE',\n",
       "  'Quantity': 3,\n",
       "  'RAM_GB': 6},\n",
       " '121': {'Color': 'Silver',\n",
       "  'Discount(%)': 10,\n",
       "  'Price': 28000,\n",
       "  'Product': 'OnePlus Nord 2',\n",
       "  'Quantity': 35,\n",
       "  'RAM': 6},\n",
       " '122': {'Color': 'Red',\n",
       "  'Discount(%)': 8,\n",
       "  'Price': 19000,\n",
       "  'Product': 'POCO X3 Pro',\n",
       "  'Quantity': 32,\n",
       "  'RAM_GB': 6},\n",
       " '123': {'Color': 'Green',\n",
       "  'Discount(%)': 0,\n",
       "  'Price': 8975,\n",
       "  'Product': 'Moto E7 Power',\n",
       "  'Quantity': 8,\n",
       "  'RAM_GB': 2},\n",
       " '124': {'Color': 'Black',\n",
       "  'Discount(%)': 0,\n",
       "  'Price': 7988,\n",
       "  'Product': 'Samsung Galaxy M02',\n",
       "  'Quantity': 20,\n",
       "  'RAM_GB': 2},\n",
       " '125': {'Color': 'Silver',\n",
       "  'Discount(%)': 5,\n",
       "  'Price': 28595,\n",
       "  'Product': 'Apple iPhone 7',\n",
       "  'Quantity': 11,\n",
       "  'RAM_GB': 2},\n",
       " '126': {'Color': 'Green',\n",
       "  'Discount(%)': 0,\n",
       "  'Price': 7500,\n",
       "  'Product': 'Infinix Smart 5',\n",
       "  'Quantity': 22,\n",
       "  'RAM': 2},\n",
       " '127': {'Color': 'Black',\n",
       "  'Discount(%)': 5,\n",
       "  'Price': 39000,\n",
       "  'Product': 'Apple iPhone 8',\n",
       "  'Quantity': 7,\n",
       "  'RAM': 2},\n",
       " '128': {'Color': 'Blue',\n",
       "  'Discount(%)': 2,\n",
       "  'Price': 7900,\n",
       "  'Product': 'Realme C2',\n",
       "  'Quantity': 23,\n",
       "  'RAM': 2},\n",
       " '129': {'Color': 'Golden',\n",
       "  'Discount(%)': 0,\n",
       "  'Price': 24000,\n",
       "  'Product': 'Apple iPhone 6S',\n",
       "  'Quantity': 24,\n",
       "  'RAM': 2},\n",
       " '130': {'Color': 'Red',\n",
       "  'Discount(%)': 7,\n",
       "  'Price': 20000,\n",
       "  'Product': 'OPPO F15',\n",
       "  'Quantity': 17,\n",
       "  'RAM': 8}}"
      ]
     },
     "execution_count": 2,
     "metadata": {},
     "output_type": "execute_result"
    }
   ],
   "source": [
    "record"
   ]
  },
  {
   "cell_type": "markdown",
   "metadata": {},
   "source": [
    "### Showing the available unique IDs "
   ]
  },
  {
   "cell_type": "code",
   "execution_count": 3,
   "metadata": {},
   "outputs": [
    {
     "name": "stdout",
     "output_type": "stream",
     "text": [
      "Valid Product IDs:  ['101', '102', '103', '104', '105', '106', '107', '108', '109', '110', '111', '112', '113', '114', '115', '116', '117', '118', '119', '120', '121', '122', '123', '124', '125', '126', '127', '128', '129', '130']\n",
      " \n",
      "Hello customer! You have 30 different models to choose from.\n"
     ]
    }
   ],
   "source": [
    "#Checking available Product IDs\n",
    "\n",
    "prod_id=[]\n",
    "for i in record:\n",
    "    prod_id.append(i)\n",
    "print (\"Valid Product IDs: \",prod_id)\n",
    "print(\" \")\n",
    "\n",
    "#Displaying the total number of different models of mobile phones available.\n",
    "\n",
    "print(\"Hello customer! You have {} different models to choose from.\".format(len(prod_id)))"
   ]
  },
  {
   "cell_type": "markdown",
   "metadata": {},
   "source": [
    "## Showing the list of available brands"
   ]
  },
  {
   "cell_type": "code",
   "execution_count": 4,
   "metadata": {},
   "outputs": [
    {
     "name": "stdout",
     "output_type": "stream",
     "text": [
      "We offer mobiles of 12 unique companies.\n",
      "Brands we have: ['OPPO', 'Samsung', 'Infinix', 'IQOO', 'Apple', 'Asus', 'Xiaomi', 'Realme', 'POCO', 'OnePlus', 'Google', 'Moto']\n",
      "You can buy any brand's mobile phone.\n"
     ]
    }
   ],
   "source": [
    "companies=[]\n",
    "for values in prod_id:\n",
    "    companies.append((record[values][\"Product\"]).split(\" \")[0])\n",
    "unique_c=set(companies)\n",
    "print (\"We offer mobiles of {} unique companies.\".format(len(unique_c)))\n",
    "print(\"Brands we have: {}\".format(list(unique_c)))\n",
    "print(\"You can buy any brand's mobile phone.\")"
   ]
  },
  {
   "cell_type": "markdown",
   "metadata": {},
   "source": [
    "## PURCHASING PRODUCTS FROM THE INVENTORY AND THEN SAVING THE SALES INFORMATION IN SALES JSON FILE AND UPDATING THE INVENTORY"
   ]
  },
  {
   "cell_type": "code",
   "execution_count": 5,
   "metadata": {},
   "outputs": [
    {
     "name": "stdout",
     "output_type": "stream",
     "text": [
      "Enter the Product ID: xyz\n",
      "Wrong Choice. Enter a valid Product ID!\n",
      "***************************************\n",
      "Enter the Product ID: 19000\n",
      "Wrong Choice. Enter a valid Product ID!\n",
      "***************************************\n",
      "Enter the Product ID: 121\n",
      "Enter the Quantity: xyz\n",
      "Sorry that's not a digit, please enter a digit.\n",
      "***************************************\n",
      "Enter the Quantity: 150\n",
      "We only have 35 products left.\n",
      "Sorry :( Please enter the quantity which we can provide. \n",
      "***************************************\n",
      "Enter the Quantity: 5\n",
      "***************************************\n",
      "Thanks for shopping with us!\n",
      "***************************************\n",
      "Product Name:  OnePlus Nord 2\n",
      "Price (Qt.1):  28000\n",
      "Quantity Purchased:  5\n",
      "Discount(%):  10\n",
      "Discount(Rs.):  14000.0\n",
      "Final Amount(Rs.) :  126000.0\n"
     ]
    }
   ],
   "source": [
    "#Defining variable ui_prod=\"wrong\" and then using while condition to get input from customer such that it is an integer. \n",
    "#And input (ui_prod) is available in the product ID list. \n",
    "    \n",
    "ui_prod=\"wrong\"\n",
    "while ui_prod not in prod_id:\n",
    "    ui_prod  = input(\"Enter the Product ID: \")\n",
    "    if ui_prod not in prod_id:\n",
    "        print(\"Wrong Choice. Enter a valid Product ID!\")\n",
    "        print(\"***************************************\")\n",
    "    else:\n",
    "        pass\n",
    "    \n",
    "#Defining variable ui_quant=\"wrong\" and then using while condition to get input from customer such that it is an integer.\n",
    "#And input (ui_quant) is less than or equal to the number of available items.\n",
    "    \n",
    "ui_quant=\"wrong\"\n",
    "acceptable_range=range (0,(record[ui_prod][\"Quantity\"])+1)\n",
    "within_range=False\n",
    "\n",
    "while ui_quant.isdigit()==False or within_range==False:\n",
    "    ui_quant=input(\"Enter the Quantity: \")\n",
    "        \n",
    "    #Condition is used to check if input is digit or not \n",
    "        \n",
    "    if ui_quant.isdigit()==False:\n",
    "        print(\"Sorry that's not a digit, please enter a digit.\")\n",
    "        print(\"***************************************\")\n",
    "    \n",
    "    else:\n",
    "        \n",
    "        #Condition is used to check if it is less than or equal to the number of available items.\n",
    "        #And then generating a message and number total items if its more than available items.\n",
    "            \n",
    "        if int(ui_quant) not in acceptable_range:\n",
    "            print(\"We only have {} products left.\".format(record[ui_prod][\"Quantity\"]))\n",
    "            print(\"Sorry :( Please enter the quantity which we can provide. \")\n",
    "            print(\"***************************************\")\n",
    "            within_range=False\n",
    "        \n",
    "        else:\n",
    "            within_range=True\n",
    "            print(\"***************************************\")\n",
    "            print(\"Thanks for shopping with us!\")\n",
    "            print(\"***************************************\")\n",
    "            \n",
    "    \n",
    "    \n",
    "#Discount of a single product is calculated by ((Price x Discount)/100)\n",
    "    \n",
    "dis=(record[ui_prod]['Discount(%)']/100)* record[ui_prod][\"Price\"]\n",
    "    \n",
    "#Displaying ProductName, Price of one item, Quantity_Purchsed, Discount, Total discount given in rupees, Final Amount.\n",
    "    \n",
    "print(\"Product Name: \", record[ui_prod]['Product'])\n",
    "print(\"Price (Qt.1): \", record[ui_prod]['Price'])\n",
    "print(\"Quantity Purchased: \", ui_quant)\n",
    "print(\"Discount(%): \", record[ui_prod]['Discount(%)'])\n",
    "print(\"Discount(Rs.): \", dis*int(ui_quant))\n",
    "print(\"Final Amount(Rs.) : \",((record[ui_prod]['Price'])-dis)*int(ui_quant)) \n",
    "\n",
    "#Decreasing the quantity available in RECORD as customer bought few products now.\n",
    "    \n",
    "record[ui_prod]['Quantity'] = (record[ui_prod]['Quantity'] - int(ui_quant))\n",
    "    \n",
    "    \n",
    "    \n",
    "#Updating the inventory to reduce the quantity available after a purchase\n",
    "js = json.dumps(record)\n",
    "\n",
    "fd = open(\"record.json\",'w')\n",
    "fd.write(js)\n",
    "fd.close()\n",
    "\n"
   ]
  },
  {
   "cell_type": "code",
   "execution_count": 6,
   "metadata": {},
   "outputs": [],
   "source": [
    "sales={1:{'Product' : ui_prod, 'Quantity Purchased' : ui_quant, 'Amount': ((record[ui_prod]['Price'])-dis)*int(ui_quant)}}\n",
    "\n",
    "js = json.dumps(sales)\n",
    "\n",
    "\n",
    "#Opening sales file in write mode and passing all the values of dictionary in it.\n",
    "fd = open(\"sales.json\",'w')\n",
    "fd.write(js)\n",
    "fd.close() #Closing the file\n",
    "\n",
    "#Reading the JSON file\n",
    "\n",
    "fd = open(\"sales.json\",'r')\n",
    "s = fd.read()\n",
    "fd.close()\n",
    "\n",
    "#Converting string back to dictionary \n",
    "\n",
    "sales = json.loads(s)"
   ]
  },
  {
   "cell_type": "code",
   "execution_count": 7,
   "metadata": {},
   "outputs": [
    {
     "data": {
      "text/plain": [
       "{'1': {'Amount': 126000.0, 'Product': '121', 'Quantity Purchased': '5'}}"
      ]
     },
     "execution_count": 7,
     "metadata": {},
     "output_type": "execute_result"
    }
   ],
   "source": [
    "sales"
   ]
  },
  {
   "cell_type": "code",
   "execution_count": 8,
   "metadata": {},
   "outputs": [
    {
     "name": "stdout",
     "output_type": "stream",
     "text": [
      "New transactions are added to the Sales!\n"
     ]
    }
   ],
   "source": [
    "#Forming a sales dictionary\n",
    "sales={1:{'Product' : ui_prod, 'Quantity Purchased' : ui_quant, 'Amount': ((record[ui_prod]['Price'])-dis)*int(ui_quant)}}\n",
    "\n",
    "#Adding all the sales values to the sales JSON File\n",
    "        \n",
    "fd = open(\"sales.json\",'w')\n",
    "fd.write(js)\n",
    "fd.close()\n",
    "\n",
    "#Generating a message when Sales file is updated\n",
    "    \n",
    "print(\"New transactions are added to the Sales!\")\n",
    "\n",
    "\n",
    " "
   ]
  },
  {
   "cell_type": "code",
   "execution_count": 9,
   "metadata": {},
   "outputs": [],
   "source": [
    "sale= json.dumps(sales)"
   ]
  },
  {
   "cell_type": "code",
   "execution_count": 10,
   "metadata": {},
   "outputs": [
    {
     "data": {
      "text/plain": [
       "'Sun Sep  5 21:38:14 2021'"
      ]
     },
     "execution_count": 10,
     "metadata": {},
     "output_type": "execute_result"
    }
   ],
   "source": [
    "import time\n",
    "time.ctime()\n"
   ]
  },
  {
   "cell_type": "code",
   "execution_count": 11,
   "metadata": {},
   "outputs": [
    {
     "data": {
      "text/plain": [
       "{1: {'Amount': 126000.0, 'Product': '121', 'Quantity Purchased': '5'}}"
      ]
     },
     "execution_count": 11,
     "metadata": {},
     "output_type": "execute_result"
    }
   ],
   "source": [
    "sales"
   ]
  }
 ],
 "metadata": {
  "kernelspec": {
   "display_name": "Python 3",
   "language": "python",
   "name": "python3"
  },
  "language_info": {
   "codemirror_mode": {
    "name": "ipython",
    "version": 3
   },
   "file_extension": ".py",
   "mimetype": "text/x-python",
   "name": "python",
   "nbconvert_exporter": "python",
   "pygments_lexer": "ipython3",
   "version": "3.6.4"
  }
 },
 "nbformat": 4,
 "nbformat_minor": 2
}
